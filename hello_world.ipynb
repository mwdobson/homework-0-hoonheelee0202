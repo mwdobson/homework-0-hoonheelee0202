{
  "nbformat": 4,
  "nbformat_minor": 0,
  "metadata": {
    "colab": {
      "name": "hello_world.ipynb",
      "provenance": [],
      "authorship_tag": "ABX9TyNrHp5uePuxejfWXrcLxQ7l",
      "include_colab_link": true
    },
    "kernelspec": {
      "name": "python3",
      "display_name": "Python 3"
    }
  },
  "cells": [
    {
      "cell_type": "markdown",
      "metadata": {
        "id": "view-in-github",
        "colab_type": "text"
      },
      "source": [
        "<a href=\"https://colab.research.google.com/github/vu-topics-in-big-data-2021/homework-0-hoonheelee0202/blob/main/hello_world.ipynb\" target=\"_parent\"><img src=\"https://colab.research.google.com/assets/colab-badge.svg\" alt=\"Open In Colab\"/></a>"
      ]
    },
    {
      "cell_type": "code",
      "metadata": {
        "id": "eXiH6HIDzOo4"
      },
      "source": [
        "# Write a function below that will print hello world"
      ],
      "execution_count": null,
      "outputs": []
    }
  ]
}
